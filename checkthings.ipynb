{
 "cells": [
  {
   "cell_type": "code",
   "execution_count": 1,
   "metadata": {},
   "outputs": [
    {
     "name": "stdout",
     "output_type": "stream",
     "text": [
      "dict_keys(['__header__', '__version__', '__globals__', 'x_data', 'y_data'])\n"
     ]
    }
   ],
   "source": [
    "import scipy.io\n",
    "\n",
    "# Load the .mat file\n",
    "data = scipy.io.loadmat('xy_data_4k_5circuit_v2.mat')\n",
    "\n",
    "# Display the keys (variable names stored in the file)\n",
    "print(data.keys())\n"
   ]
  },
  {
   "cell_type": "code",
   "execution_count": 3,
   "metadata": {},
   "outputs": [
    {
     "name": "stdout",
     "output_type": "stream",
     "text": [
      "[[[-7.21716919e+00 -8.69139351e+00 -1.04667077e+01 ... -5.86132711e-03\n",
      "   -4.86708227e-03 -4.04148913e-03]\n",
      "  [-2.44058681e-01 -2.93913646e-01 -3.53952175e-01 ... -1.58951284e-01\n",
      "   -1.31988908e-01 -1.09600029e-01]\n",
      "  [ 1.69432443e+03  1.69431517e+03  1.69430232e+03 ...  2.11278405e+00\n",
      "    2.11277996e+00  2.11277692e+00]]\n",
      "\n",
      " [[-3.96197568e-06 -4.60130905e-06 -5.34380974e-06 ... -3.12452566e-01\n",
      "   -2.76098193e-01 -2.42920688e-01]\n",
      "  [-2.59429057e-07 -3.01292427e-07 -3.49911163e-07 ... -2.04973312e-02\n",
      "   -1.81130225e-02 -1.59368903e-02]\n",
      "  [ 8.75015652e+02  8.75015652e+02  8.75015651e+02 ...  8.73392422e+02\n",
      "    8.73363981e+02  8.73340410e+02]]\n",
      "\n",
      " [[-8.62382511e-01 -1.02488001e+00 -1.21798770e+00 ... -5.63383437e-02\n",
      "   -4.74040113e-02 -3.98865033e-02]\n",
      "  [-5.13693947e-02 -6.10500412e-02 -7.25547555e-02 ... -1.93102411e+01\n",
      "   -1.65257876e+01 -1.40897945e+01]\n",
      "  [ 9.61873994e+02  9.61855373e+02  9.61833209e+02 ...  1.70369597e-01\n",
      "    1.66653312e-01  1.63843796e-01]]\n",
      "\n",
      " ...\n",
      "\n",
      " [[-3.60142389e+01 -3.28148162e+01 -2.98996484e+01 ... -6.67224558e-02\n",
      "   -5.66109727e-02 -4.80264097e-02]\n",
      "  [-3.70989578e+01 -3.64536176e+01 -3.57673311e+01 ... -8.69142305e-01\n",
      "   -7.37786730e-01 -6.26160558e-01]\n",
      "  [ 5.97059486e+01  5.52278204e+01  5.11546580e+01 ...  4.39866028e+00\n",
      "    4.39647301e+00  4.39466415e+00]]\n",
      "\n",
      " [[-9.80855612e+00 -8.99115376e+00 -8.25497563e+00 ... -4.10174282e-03\n",
      "   -3.49052709e-03 -2.97032442e-03]\n",
      "  [-1.62918332e+00 -1.49722584e+00 -1.37784603e+00 ... -8.32460815e-04\n",
      "   -7.08413108e-04 -6.02836629e-04]\n",
      "  [ 3.44997767e+02  3.44112280e+02  3.43304580e+02 ...  2.82310648e+02\n",
      "    2.82310517e+02  2.82310406e+02]]\n",
      "\n",
      " [[-4.39013603e+02 -4.29431555e+02 -4.24708744e+02 ... -1.01412288e-01\n",
      "   -8.60625322e-02 -7.30341255e-02]\n",
      "  [-4.33383739e+00 -4.26741051e+00 -4.24813259e+00 ... -1.40048898e-03\n",
      "   -1.18851192e-03 -1.00859199e-03]\n",
      "  [ 5.80954612e+03  5.77103577e+03  5.73341996e+03 ...  4.14890526e+03\n",
      "    4.14890232e+03  4.14889983e+03]]]\n"
     ]
    }
   ],
   "source": [
    "your_variable = data['x_data']  # Replace with actual variable name\n",
    "print(your_variable)\n"
   ]
  },
  {
   "cell_type": "code",
   "execution_count": 6,
   "metadata": {},
   "outputs": [
    {
     "name": "stdout",
     "output_type": "stream",
     "text": [
      "(20480, 3, 100)\n"
     ]
    }
   ],
   "source": [
    "import numpy as np\n",
    "\n",
    "numpy_array = np.array(your_variable)\n",
    "print(numpy_array.shape)  # Check the shape of the data\n"
   ]
  },
  {
   "cell_type": "code",
   "execution_count": 7,
   "metadata": {},
   "outputs": [
    {
     "name": "stdout",
     "output_type": "stream",
     "text": [
      "CSV file successfully saved as output.mat\n"
     ]
    }
   ],
   "source": [
    "import pandas as pd\n",
    "import scipy.io\n",
    "\n",
    "# Load the CSV file\n",
    "csv_data = pd.read_csv('Zsim_3.csv')  # Replace with your actual CSV file name\n",
    "\n",
    "# Convert DataFrame to a dictionary for .mat format\n",
    "data_dict = {'csv_data': csv_data.to_numpy()}  # Convert to NumPy array\n",
    "\n",
    "# Save as .mat file\n",
    "scipy.io.savemat('output.mat', data_dict)\n",
    "\n",
    "print(\"CSV file successfully saved as output.mat\")\n"
   ]
  }
 ],
 "metadata": {
  "kernelspec": {
   "display_name": "base",
   "language": "python",
   "name": "python3"
  },
  "language_info": {
   "codemirror_mode": {
    "name": "ipython",
    "version": 3
   },
   "file_extension": ".py",
   "mimetype": "text/x-python",
   "name": "python",
   "nbconvert_exporter": "python",
   "pygments_lexer": "ipython3",
   "version": "3.9.13"
  }
 },
 "nbformat": 4,
 "nbformat_minor": 2
}
